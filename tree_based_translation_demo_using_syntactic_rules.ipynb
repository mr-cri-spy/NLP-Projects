{
  "nbformat": 4,
  "nbformat_minor": 0,
  "metadata": {
    "colab": {
      "provenance": [],
      "authorship_tag": "ABX9TyOyxe8v00ox9V26bizIcz6A",
      "include_colab_link": true
    },
    "kernelspec": {
      "name": "python3",
      "display_name": "Python 3"
    },
    "language_info": {
      "name": "python"
    }
  },
  "cells": [
    {
      "cell_type": "markdown",
      "metadata": {
        "id": "view-in-github",
        "colab_type": "text"
      },
      "source": [
        "<a href=\"https://colab.research.google.com/github/mr-cri-spy/NLP-Projects/blob/main/tree_based_translation_demo_using_syntactic_rules.ipynb\" target=\"_parent\"><img src=\"https://colab.research.google.com/assets/colab-badge.svg\" alt=\"Open In Colab\"/></a>"
      ]
    },
    {
      "cell_type": "code",
      "execution_count": 9,
      "metadata": {
        "id": "PxMgry_7iHqx"
      },
      "outputs": [],
      "source": [
        "import nltk\n",
        "from nltk.tree import Tree"
      ]
    },
    {
      "cell_type": "markdown",
      "source": [
        "Step 1: English parse tree (S → NP VP; VP → V NP)"
      ],
      "metadata": {
        "id": "IG4fPR0diX1a"
      }
    },
    {
      "cell_type": "code",
      "source": [
        "english_tree = Tree('S', [\n",
        "    Tree('NP', ['Akki']),\n",
        "    Tree('VP', [\n",
        "        Tree('V', ['eats']),\n",
        "        Tree('NP', ['mango'])\n",
        "    ])\n",
        "])\n",
        "\n",
        "print(\" English Tree:\")\n",
        "english_tree.pretty_print()"
      ],
      "metadata": {
        "colab": {
          "base_uri": "https://localhost:8080/"
        },
        "id": "IF4uiv3tidGa",
        "outputId": "0f109b96-13fc-4f46-b72c-3ef7fb2d94f3"
      },
      "execution_count": 10,
      "outputs": [
        {
          "output_type": "stream",
          "name": "stdout",
          "text": [
            " English Tree:\n",
            "      S            \n",
            "  ____|____         \n",
            " |         VP      \n",
            " |     ____|____    \n",
            " NP   V         NP \n",
            " |    |         |   \n",
            "Akki eats     mango\n",
            "\n"
          ]
        }
      ]
    },
    {
      "cell_type": "markdown",
      "source": [
        "\n",
        "Step 2: Define transformation rule for VP → NP V (reverse order)"
      ],
      "metadata": {
        "id": "3rq0-Kuhig6p"
      }
    },
    {
      "cell_type": "code",
      "source": [
        "\n",
        "def transform_vp(vp):\n",
        "    if vp.label() == 'VP' and len(vp) == 2:\n",
        "        v = vp[0]  # V\n",
        "        np = vp[1] # NP\n",
        "        return Tree('VP', [np, v])\n",
        "    return vp"
      ],
      "metadata": {
        "id": "3u4z42Erihci"
      },
      "execution_count": 11,
      "outputs": []
    },
    {
      "cell_type": "markdown",
      "source": [
        "\n",
        "Step 3: Apply transformation"
      ],
      "metadata": {
        "id": "-1Uariqnion1"
      }
    },
    {
      "cell_type": "code",
      "source": [
        "\n",
        "\n",
        "translated_tree = Tree('S', [\n",
        "    english_tree[1][1],  # mango (NP)\n",
        "    english_tree[0],     # Akki (NP)\n",
        "    english_tree[1][0]   # eats (V)\n",
        "])\n",
        "\n",
        "print(\"\\n Translated Tree (simulated):\")\n",
        "translated_tree.pretty_print()"
      ],
      "metadata": {
        "colab": {
          "base_uri": "https://localhost:8080/"
        },
        "id": "dGiSELROio3d",
        "outputId": "3c0cf797-d639-41b0-8568-be82cb98184a"
      },
      "execution_count": 12,
      "outputs": [
        {
          "output_type": "stream",
          "name": "stdout",
          "text": [
            "\n",
            " Translated Tree (simulated):\n",
            "       S       \n",
            "   ____|____    \n",
            "  NP   NP   V  \n",
            "  |    |    |   \n",
            "mango Akki eats\n",
            "\n"
          ]
        }
      ]
    },
    {
      "cell_type": "markdown",
      "source": [
        "Step 4:; Generate output sentence"
      ],
      "metadata": {
        "id": "joxornzLiy--"
      }
    },
    {
      "cell_type": "code",
      "source": [
        "\n",
        "translated_sentence = ' '.join(translated_tree.flatten())\n",
        "print(\"\\n Translated Sentence:\", translated_sentence)\n"
      ],
      "metadata": {
        "colab": {
          "base_uri": "https://localhost:8080/"
        },
        "id": "tAUrlU2-izLL",
        "outputId": "388a7609-0830-4f81-bb71-5be83ef17943"
      },
      "execution_count": 13,
      "outputs": [
        {
          "output_type": "stream",
          "name": "stdout",
          "text": [
            "\n",
            " Translated Sentence: mango Akki eats\n"
          ]
        }
      ]
    }
  ]
}