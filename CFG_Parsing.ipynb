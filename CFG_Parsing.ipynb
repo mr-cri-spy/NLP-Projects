


{
  "nbformat": 4,
  "nbformat_minor": 0,
  "metadata": {
    "colab": {
      "provenance": [],
      "authorship_tag": "ABX9TyP/SKvE9XNQUbzwfyoIsvXD",
      "include_colab_link": true
    },
    "kernelspec": {
      "name": "python3",
      "display_name": "Python 3"
    },
    "language_info": {
      "name": "python"
    }
  },
  "cells": [
    {
      "cell_type": "markdown",
      "metadata": {
        "id": "view-in-github",
        "colab_type": "text"
      },
      "source": [
        "<a href=\"https://colab.research.google.com/github/mr-cri-spy/NLP-Projects/blob/main/CFG_Parsing.ipynb\" target=\"_parent\"><img src=\"https://colab.research.google.com/assets/colab-badge.svg\" alt=\"Open In Colab\"/></a>"
      ]
    },
    {
      "cell_type": "code",
      "execution_count": null,
      "metadata": {
        "colab": {
          "base_uri": "https://localhost:8080/"
        },
        "id": "n2dB5nPdiKap",
        "outputId": "c5c24e8f-4987-4704-9613-ceff9cfaec00"
      },
      "outputs": [
        {
          "output_type": "stream",
          "name": "stdout",
          "text": [
            "(S\n",
            "  (NP (Det the) (Noun dog))\n",
            "  (VP (Verb chases) (NP (Det a) (Noun cat))))\n"
          ]
        }
      ],
      "source": [
        "import nltk\n",
        "from nltk import CFG\n",
        "\n",
        "# Define a simple grammar\n",
        "grammar = CFG.fromstring(\"\"\"\n",
        "  S -> NP VP\n",
        "  NP -> Det Noun\n",
        "  VP -> Verb NP\n",
        "  Det -> 'the' | 'a'\n",
        "  Noun -> 'dog' | 'cat'\n",
        "  Verb -> 'chases' | 'sees' \"\"\")\n",
        "\n",
        "parser = nltk.ChartParser(grammar)\n",
        "\n",
        "sentence = ['the', 'dog', 'chases', 'a', 'cat']\n",
        "\n",
        "for tree in parser.parse(sentence):\n",
        "    print(tree)\n"
      ]
    },
    {
      "cell_type": "markdown",
      "source": [
        "import spacy\n",
        "\n",
        "nlp = spacy.load('en_core_web_sm')\n",
        "\n",
        "doc = nlp(\"Akki saw Gopala\")\n",
        "\n",
        "for token in doc:\n",
        "    print(f\"{token.text} --> {token.head.text} ({token.dep_})\")\n"
      ],
      "metadata": {
        "id": "BWz0CSBLkwjI"
      }
    },
    {
      "cell_type": "code",
      "source": [
        "import spacy\n",
        "\n",
        "nlp = spacy.load('en_core_web_sm')\n",
        "\n",
        "doc = nlp(\"Akki saw Gopala\")\n",
        "\n",
        "for token in doc:\n",
        "    print(f\"{token.text} --> {token.head.text} ({token.dep_})\")\n"
      ],
      "metadata": {
        "colab": {
          "base_uri": "https://localhost:8080/"
        },
        "id": "UelBKxGKk9Am",
        "outputId": "4dd07aa8-0844-4aae-cc56-c87a74c60de4"
      },
      "execution_count": null,
      "outputs": [
        {
          "output_type": "stream",
          "name": "stdout",
          "text": [
            "Akki --> saw (nsubj)\n",
            "saw --> saw (ROOT)\n",
            "Gopala --> saw (dobj)\n"
          ]
        }
      ]
    }
  ]
}
