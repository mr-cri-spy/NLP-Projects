
{
  "nbformat": 4,
  "nbformat_minor": 0,
  "metadata": {
    "colab": {
      "provenance": [],
      "authorship_tag": "ABX9TyPw7viSg14W8QzYa7hu+S5A",
      "include_colab_link": true
    },
    "kernelspec": {
      "name": "python3",
      "display_name": "Python 3"
    },
    "language_info": {
      "name": "python"
    }
  },
  "cells": [
    {
      "cell_type": "markdown",
      "metadata": {
        "id": "view-in-github",
        "colab_type": "text"
      },
      "source": [
        "<a href=\"https://colab.research.google.com/github/mr-cri-spy/NLP-Projects/blob/main/Learning_FSA_.ipynb\" target=\"_parent\"><img src=\"https://colab.research.google.com/assets/colab-badge.svg\" alt=\"Open In Colab\"/></a>"
      ]
    },
    {
      "cell_type": "markdown",
      "source": [
        "1. Basic Finite-State Automaton (FSA) Simulator\n",
        "Build an FSA that checks if a word like cats, dogs, dog, cat is valid\n",
        "Just states + transitions"
      ],
      "metadata": {
        "id": "LtY3TG3aI1gi"
      }
    },
    {
      "cell_type": "code",
      "source": [
        "def is_valid_word(word):\n",
        "  valid_words = {\"cats\", \"dogs\", \"dog\", \"cat\"}\n",
        "  return word in valid_words\n",
        "\n",
        "print(is_valid_word(\"cats\"))"
      ],
      "metadata": {
        "id": "WcvlBZzuJAaz",
        "colab": {
          "base_uri": "https://localhost:8080/"
        },
        "outputId": "7b566ef1-dc3a-487c-8ea3-c105e33322cf"
      },
      "execution_count": 1,
      "outputs": [
        {
          "output_type": "stream",
          "name": "stdout",
          "text": [
            "True\n"
          ]
        }
      ]
    },
    {
      "cell_type": "markdown",
      "source": [
        "Morphological Splitter (Basic FST Idea)\n",
        "Split words like unhappiness → un + happy + ness"
      ],
      "metadata": {
        "id": "jazSc0maJjv8"
      }
    },
    {
      "cell_type": "code",
      "source": [
        "def morph_split(word):\n",
        "  affixes = {\"un\": \"un\", \"happy\": \"happy\", \"ness\": \"ness\"}\n",
        "  for affix in affinxes:\n",
        "    if word.startswitch(affix):\n",
        "      retu"
      ],
      "metadata": {
        "id": "Q7iV8Cw8JuGp"
      },
      "execution_count": 2,
      "outputs": []
    }
  ]
}
