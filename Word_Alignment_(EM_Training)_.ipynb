{
  "nbformat": 4,
  "nbformat_minor": 0,
  "metadata": {
    "colab": {
      "provenance": [],
      "authorship_tag": "ABX9TyOv4VkqkGB8Zy4KM+V24UNE",
      "include_colab_link": true
    },
    "kernelspec": {
      "name": "python3",
      "display_name": "Python 3"
    },
    "language_info": {
      "name": "python"
    }
  },
  "cells": [
    {
      "cell_type": "markdown",
      "metadata": {
        "id": "view-in-github",
        "colab_type": "text"
      },
      "source": [
        "<a href=\"https://colab.research.google.com/github/mr-cri-spy/NLP-Projects/blob/main/Word_Alignment_(EM_Training)_.ipynb\" target=\"_parent\"><img src=\"https://colab.research.google.com/assets/colab-badge.svg\" alt=\"Open In Colab\"/></a>"
      ]
    },
    {
      "cell_type": "code",
      "source": [
        "import random\n",
        "from collections import defaultdict\n",
        "\n",
        "# Sample parallel corpus: English (e) to Foreign (f)\n",
        "parallel_corpus = [\n",
        "    ([\"mango\", \"is\", \"sweet\"], [\"hannu\", \"sihi\"]),\n",
        "    ([\"akki\", \"eats\", \"mango\"], [\"akki\", \"thinnu\", \"hannu\"]),\n",
        "    ([\"gopala\", \"likes\", \"fruit\"], [\"gopala\", \"ishta\", \"hannu\"]),\n",
        "]\n",
        "\n",
        "# Initialize translation probabilities t(f|e) uniformly\n",
        "t = defaultdict(lambda: defaultdict(lambda: 1.0))\n",
        "\n",
        "# Collect all unique words\n",
        "eng_vocab = set()\n",
        "for_vocab = set()\n",
        "for (e_sentence, f_sentence) in parallel_corpus:\n",
        "    for e in e_sentence:\n",
        "        eng_vocab.add(e)\n",
        "    for f in f_sentence:\n",
        "        for_vocab.add(f)\n",
        "\n",
        "# EM algorithm\n",
        "num_iterations = 10\n",
        "for iteration in range(num_iterations):\n",
        "    count = defaultdict(lambda: defaultdict(float))\n",
        "    total = defaultdict(float)\n",
        "\n",
        "    # E-step\n",
        "    for (e_sentence, f_sentence) in parallel_corpus:\n",
        "        for f in f_sentence:\n",
        "            Z = sum(t[f][e] for e in e_sentence)\n",
        "            for e in e_sentence:\n",
        "                c = t[f][e] / Z\n",
        "                count[f][e] += c_\n",
        "                total[e] += c\n",
        "\n",
        "    # M-step\n",
        "    for f in for_vocab:\n",
        "        for e in eng_vocab:\n",
        "            if total[e] > 0:\n",
        "                t[f][e] = count[f][e] / total[e]\n",
        "\n",
        "# Show results\n",
        "print(\"\\nLearned Translation Probabilities t(f|e):\\n\")\n",
        "for f in for_vocab:\n",
        "    for e in eng_vocab:\n",
        "        prob = round(t[f][e], 3)\n",
        "        if prob > 0.01:\n",
        "            print(f\"t({f}|{e}) = {prob}\")\n"
      ],
      "metadata": {
        "colab": {
          "base_uri": "https://localhost:8080/"
        },
        "id": "MkBY6cTM6FDZ",
        "outputId": "f3158f71-08a4-43dd-eddb-08a31c255ed8"
      },
      "execution_count": 1,
      "outputs": [
        {
          "output_type": "stream",
          "name": "stdout",
          "text": [
            "\n",
            "Learned Translation Probabilities t(f|e):\n",
            "\n",
            "t(gopala|likes) = 0.333\n",
            "t(gopala|gopala) = 0.333\n",
            "t(gopala|fruit) = 0.333\n",
            "t(akki|eats) = 0.463\n",
            "t(akki|akki) = 0.463\n",
            "t(akki|mango) = 0.019\n",
            "t(sihi|sweet) = 0.729\n",
            "t(sihi|is) = 0.729\n",
            "t(ishta|likes) = 0.333\n",
            "t(ishta|gopala) = 0.333\n",
            "t(ishta|fruit) = 0.333\n",
            "t(thinnu|eats) = 0.463\n",
            "t(thinnu|akki) = 0.463\n",
            "t(thinnu|mango) = 0.019\n",
            "t(hannu|likes) = 0.333\n",
            "t(hannu|eats) = 0.074\n",
            "t(hannu|akki) = 0.074\n",
            "t(hannu|gopala) = 0.333\n",
            "t(hannu|sweet) = 0.271\n",
            "t(hannu|mango) = 0.962\n",
            "t(hannu|is) = 0.271\n",
            "t(hannu|fruit) = 0.333\n"
          ]
        }
      ]
    }
  ]
}