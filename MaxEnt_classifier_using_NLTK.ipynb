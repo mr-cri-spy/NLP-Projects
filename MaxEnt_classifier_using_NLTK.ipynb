
{
  "nbformat": 4,
  "nbformat_minor": 0,
  "metadata": {
    "colab": {
      "provenance": [],
      "authorship_tag": "ABX9TyPrQjn8KxYkhRqozPH8IiNd",
      "include_colab_link": true
    },
    "kernelspec": {
      "name": "python3",
      "display_name": "Python 3"
    },
    "language_info": {
      "name": "python"
    }
  },
  "cells": [
    {
      "cell_type": "markdown",
      "metadata": {
        "id": "view-in-github",
        "colab_type": "text"
      },
      "source": [
        "<a href=\"https://colab.research.google.com/github/mr-cri-spy/NLP-Projects/blob/main/MaxEnt_classifier_using_NLTK.ipynb\" target=\"_parent\"><img src=\"https://colab.research.google.com/assets/colab-badge.svg\" alt=\"Open In Colab\"/></a>"
      ]
    },
    {
      "cell_type": "code",
      "execution_count": 1,
      "metadata": {
        "colab": {
          "base_uri": "https://localhost:8080/"
        },
        "id": "eHybi5bCJC3x",
        "outputId": "1089a3f7-ed3b-4316-8ec9-f44ac4c3b9ec"
      },
      "outputs": [
        {
          "output_type": "stream",
          "name": "stdout",
          "text": [
            "VBZ\n",
            "   2.124 word=='Akki' and label is 'NNP'\n",
            "   2.124 suffix=='i' and label is 'NNP'\n",
            "   2.124 word=='eats' and label is 'VBZ'\n",
            "   2.124 suffix=='s' and label is 'VBZ'\n",
            "   2.124 word=='apple' and label is 'NN'\n",
            "   2.124 suffix=='e' and label is 'NN'\n"
          ]
        }
      ],
      "source": [
        "import nltk\n",
        "from nltk.classify import MaxentClassifier\n",
        "\n",
        "#Sample data\n",
        "train_data = [\n",
        "    ({\"word\": \"Akki\", \"suffix\": \"i\"}, \"NNP\"),\n",
        "    ({\"word\": \"eats\", \"suffix\": \"s\"}, \"VBZ\"),\n",
        "    ({\"word\": \"apple\", \"suffix\": \"e\"}, \"NN\")\n",
        "]\n",
        "\n",
        "#Train MaxEnt model\n",
        "classifier = MaxentClassifier.train(train_data, algorithm='iis', trace=0, max_iter=10)\n",
        "print(classifier.classify({\"word\": \"eats\", \"suffix\": \"s\"}))\n",
        "classifier.show_most_informative_features()\n"
      ]
    }
  ]
}
