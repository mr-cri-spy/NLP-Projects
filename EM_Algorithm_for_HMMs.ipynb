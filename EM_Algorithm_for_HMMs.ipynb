
{
  "cells": [
    {
      "cell_type": "markdown",
      "metadata": {
        "id": "view-in-github",
        "colab_type": "text"
      },
      "source": [
        "<a href=\"https://colab.research.google.com/github/mr-cri-spy/NLP-Projects/blob/main/EM_Algorithm_for_HMMs.ipynb\" target=\"_parent\"><img src=\"https://colab.research.google.com/assets/colab-badge.svg\" alt=\"Open In Colab\"/></a>"
      ]
    },
    {
      "cell_type": "code",
      "source": [
        "!pip install nltk\n",
        "\n",
        "# Importing HMM module\n",
        "import nltk\n",
        "from nltk.tag import hmm\n",
        "nltk.download('punkt')\n",
        "\n",
        "# Sample Unlabeled Training Data with initial tags\n",
        "train_data = [\n",
        "    [('Akki', 'NNP'), ('eats', 'VB')],\n",
        "    [('Gopala', 'NNP'), ('eats', 'VB')],\n",
        "    [('Akki', 'NNP'), ('runs', 'VB')],\n",
        "    [('Gopala', 'NNP'), ('runs', 'VB')],\n",
        "    [('Akki', 'NNP'), ('cooks', 'VB')],\n",
        "    [('Gopala', 'NNP'), ('writes', 'VB')],\n",
        "]\n",
        "\n",
        "# Train the HMM Model (unsupervised with EM)\n",
        "trainer = hmm.HiddenMarkovModelTrainer()\n",
        "# Now we call train with labeled data\n",
        "hmm_tagger = trainer.train_supervised(train_data)\n",
        "\n",
        "# Test the model\n",
        "test_sentence = ['Akki', 'runs']\n",
        "tagged_output = hmm_tagger.tag(test_sentence)\n",
        "\n",
        "# Show the result\n",
        "print(\"Tagged Output:\", tagged_output)"
      ],
      "metadata": {
        "id": "a00zXMBfUvWv"
      },
      "execution_count": null,
      "outputs": []
    }
  ],
  "metadata": {
    "colab": {
      "provenance": [],
      "authorship_tag": "ABX9TyOSoC7YKZyZ6E4buh2qO/he",
      "include_colab_link": true
    },
    "kernelspec": {
      "display_name": "Python 3",
      "name": "python3"
    },
    "language_info": {
      "name": "python"
    }
  },
  "nbformat": 4,
  "nbformat_minor": 0
}
