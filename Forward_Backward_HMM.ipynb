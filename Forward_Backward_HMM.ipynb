{
  "nbformat": 4,
  "nbformat_minor": 0,
  "metadata": {
    "colab": {
      "provenance": [],
      "authorship_tag": "ABX9TyOQWxv00sVM9FSpsPWb9s5o",
      "include_colab_link": true
    },
    "kernelspec": {
      "name": "python3",
      "display_name": "Python 3"
    },
    "language_info": {
      "name": "python"
    }
  },
  "cells": [
    {
      "cell_type": "markdown",
      "metadata": {
        "id": "view-in-github",
        "colab_type": "text"
      },
      "source": [
        "<a href=\"https://colab.research.google.com/github/mr-cri-spy/NLP-Projects/blob/main/Forward_Backward_HMM.ipynb\" target=\"_parent\"><img src=\"https://colab.research.google.com/assets/colab-badge.svg\" alt=\"Open In Colab\"/></a>"
      ]
    },
    {
      "cell_type": "markdown",
      "source": [
        "Step 1: Install and Import"
      ],
      "metadata": {
        "id": "eKyTWzwUDE5z"
      }
    },
    {
      "cell_type": "code",
      "source": [
        "!pip install nltk\n",
        "import nltk\n",
        "from nltk.tag import hmm\n",
        "nltk.download('punkt')"
      ],
      "metadata": {
        "colab": {
          "base_uri": "https://localhost:8080/"
        },
        "id": "4oFwfPR-Br93",
        "outputId": "f104d226-1d81-41fc-c48b-ac828ec43793"
      },
      "execution_count": null,
      "outputs": [
        {
          "output_type": "stream",
          "name": "stdout",
          "text": [
            "Requirement already satisfied: nltk in /usr/local/lib/python3.11/dist-packages (3.9.1)\n",
            "Requirement already satisfied: click in /usr/local/lib/python3.11/dist-packages (from nltk) (8.1.8)\n",
            "Requirement already satisfied: joblib in /usr/local/lib/python3.11/dist-packages (from nltk) (1.4.2)\n",
            "Requirement already satisfied: regex>=2021.8.3 in /usr/local/lib/python3.11/dist-packages (from nltk) (2024.11.6)\n",
            "Requirement already satisfied: tqdm in /usr/local/lib/python3.11/dist-packages (from nltk) (4.67.1)\n"
          ]
        },
        {
          "output_type": "stream",
          "name": "stderr",
          "text": [
            "[nltk_data] Downloading package punkt to /root/nltk_data...\n",
            "[nltk_data]   Package punkt is already up-to-date!\n"
          ]
        },
        {
          "output_type": "execute_result",
          "data": {
            "text/plain": [
              "True"
            ]
          },
          "metadata": {},
          "execution_count": 17
        }
      ]
    },
    {
      "cell_type": "markdown",
      "source": [
        "Step 2: Simulated POS-tagged data (like EM would produce)"
      ],
      "metadata": {
        "id": "JRw-2b9hDRYn"
      }
    },
    {
      "cell_type": "code",
      "source": [
        "train_data = [\n",
        "    [('Akki', 'NOUN'), ('runs', 'VERB')],\n",
        "    [('Gopala', 'NOUN'), ('eats', 'VERB')],\n",
        "    [('Akki', 'NOUN'), ('writes', 'VERB')],\n",
        "    [('Gopala', 'NOUN'), ('teaches', 'VERB')],\n",
        "    [('Akki', 'NOUN'), ('learns', 'VERB')],\n",
        "    [('Gopala', 'NOUN'), ('reads', 'VERB')],\n",
        "    [('Akki', 'NOUN'), ('eats', 'VERB')],\n",
        "    [('Gopala', 'NOUN'), ('writes', 'VERB')], ]"
      ],
      "metadata": {
        "id": "4QcAmS3OBtVa"
      },
      "execution_count": null,
      "outputs": []
    },
    {
      "cell_type": "markdown",
      "source": [
        "Step 3: Train the HMM model"
      ],
      "metadata": {
        "id": "qMNcatrGDUCM"
      }
    },
    {
      "cell_type": "code",
      "source": [
        "trainer = hmm.HiddenMarkovModelTrainer()\n",
        "tagger = trainer.train_supervised(train_data)"
      ],
      "metadata": {
        "id": "4vy7fhjgBwoN"
      },
      "execution_count": null,
      "outputs": []
    },
    {
      "cell_type": "markdown",
      "source": [
        "Step 4: Test the tagger"
      ],
      "metadata": {
        "id": "oLOHDOFEDdnx"
      }
    },
    {
      "cell_type": "code",
      "source": [
        "\n",
        "test_sentence = ['Akki', 'teaches']\n",
        "output = tagger.tag(test_sentence)\n",
        "print(\"Tagged Output:\", output)\n"
      ],
      "metadata": {
        "colab": {
          "base_uri": "https://localhost:8080/"
        },
        "id": "Ttk5LOZNCUKY",
        "outputId": "12bbcdd0-a642-4d32-9dd0-00600e670069"
      },
      "execution_count": null,
      "outputs": [
        {
          "output_type": "stream",
          "name": "stdout",
          "text": [
            "Tagged Output: [('Akki', 'NOUN'), ('teaches', 'VERB')]\n"
          ]
        }
      ]
    },
    {
      "cell_type": "code",
      "source": [
        "print(\"States (Hidden Tags):\", tagger._states)\n",
        "print(\"\\nTransitions:\\n\", tagger._transitions)  # Remove parentheses here\n",
        "print(\"\\nEmissions:\\n\", tagger._outputs)       # Remove parentheses here"
      ],
      "metadata": {
        "colab": {
          "base_uri": "https://localhost:8080/"
        },
        "id": "jzxfe5_CCXRn",
        "outputId": "6b4b868f-d486-42ba-9fa4-b1c60a97abd7"
      },
      "execution_count": null,
      "outputs": [
        {
          "output_type": "stream",
          "name": "stdout",
          "text": [
            "States (Hidden Tags): ['NOUN', 'VERB']\n",
            "\n",
            "Transitions:\n",
            " <ConditionalProbDist with 2 conditions>\n",
            "\n",
            "Emissions:\n",
            " <ConditionalProbDist with 2 conditions>\n"
          ]
        }
      ]
    },
    {
      "cell_type": "markdown",
      "source": [
        "Forward-Backward implementation using NumPy"
      ],
      "metadata": {
        "id": "acZFoV5DImvf"
      }
    },
    {
      "cell_type": "code",
      "source": [
        "import numpy as np\n",
        "\n",
        "\n",
        "states = ['NOUN', 'VERB']\n",
        "observations = ['Akki', 'runs']\n",
        "obs_map = {'Akki': 0, 'runs': 1}\n",
        "num_states = len(states)\n",
        "T = len(observations)\n",
        "\n",
        "A = np.array([[0.6, 0.4],\n",
        "              [0.3, 0.7]])\n",
        "\n",
        "\n",
        "B = np.array([[0.9, 0.1],  # NOUN → Akki, runs\n",
        "              [0.2, 0.8]]) # VERB → Akki, runs\n",
        "\n",
        "\n",
        "pi = np.array([0.5, 0.5])\n",
        "\n",
        "# Forward Algorithm (α)\n",
        "\n",
        "alpha = np.zeros((T, num_states))\n",
        "\n",
        "# Initialization\n",
        "alpha[0] = pi * B[:, obs_map[observations[0]]]\n",
        "\n",
        "# Recursion\n",
        "for t in range(1, T):\n",
        "    for j in range(num_states):\n",
        "        alpha[t, j] = np.sum(alpha[t-1] * A[:, j]) * B[j, obs_map[observations[t]]]\n",
        "\n",
        "print(\"Forward Probabilities (α):\\n\", alpha)\n",
        "\n",
        "\n",
        "# Backward Algorithm (β)\n",
        "\n",
        "beta = np.zeros((T, num_states))\n",
        "beta[T-1] = np.ones(num_states)\n",
        "\n",
        "# Recursion\n",
        "for t in range(T-2, -1, -1):\n",
        "    for i in range(num_states):\n",
        "        beta[t, i] = np.sum(A[i, :] * B[:, obs_map[observations[t+1]]] * beta[t+1])\n",
        "\n",
        "print(\"\\nBackward Probabilities (β):\\n\", beta)\n",
        "\n",
        "\n",
        "# γ: Posterior probabilities\n",
        "\n",
        "gamma = (alpha * beta) / np.sum(alpha[T-1])\n",
        "print(\"\\nGamma (γ = state probabilities at each time step):\\n\", gamma)\n"
      ],
      "metadata": {
        "colab": {
          "base_uri": "https://localhost:8080/"
        },
        "id": "h_CeGrg3HuBc",
        "outputId": "83c9059b-762e-4d10-b521-ebabb3b706b7"
      },
      "execution_count": null,
      "outputs": [
        {
          "output_type": "stream",
          "name": "stdout",
          "text": [
            "Forward Probabilities (α):\n",
            " [[0.45 0.1 ]\n",
            " [0.03 0.2 ]]\n",
            "\n",
            "Backward Probabilities (β):\n",
            " [[0.38 0.59]\n",
            " [1.   1.  ]]\n",
            "\n",
            "Gamma (γ = state probabilities at each time step):\n",
            " [[0.74347826 0.25652174]\n",
            " [0.13043478 0.86956522]]\n"
          ]
        }
      ]
    }
  ]
}